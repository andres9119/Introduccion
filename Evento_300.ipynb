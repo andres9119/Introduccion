{
  "nbformat": 4,
  "nbformat_minor": 0,
  "metadata": {
    "colab": {
      "provenance": [],
      "include_colab_link": true
    },
    "kernelspec": {
      "name": "python3",
      "display_name": "Python 3"
    },
    "language_info": {
      "name": "python"
    }
  },
  "cells": [
    {
      "cell_type": "markdown",
      "metadata": {
        "id": "view-in-github",
        "colab_type": "text"
      },
      "source": [
        "<a href=\"https://colab.research.google.com/github/andres9119/Introduccion/blob/main/Evento_300.ipynb\" target=\"_parent\"><img src=\"https://colab.research.google.com/assets/colab-badge.svg\" alt=\"Open In Colab\"/></a>"
      ]
    },
    {
      "cell_type": "code",
      "source": [
        "import pandas as pd\n",
        "from datetime import datetime\n",
        "\n",
        "# 1. Cargar el archivo Excel\n",
        "archivo = input(\"Ingrese el nombre del archivo Excel (ej: datos2.xlsx): \").strip()\n",
        "df = pd.read_excel(archivo)\n",
        "descargado = df\n",
        "\n",
        "# 2. Identificar columnas de tipo fecha\n",
        "columnas_fecha = [col for col in df.columns if df[col].dtype == 'datetime64[ns]']\n",
        "\n",
        "# 3. Formatear columnas de fecha como texto en formato dd/mm/yyyy\n",
        "for col in columnas_fecha:\n",
        "    df[col] = df[col].dt.strftime('%d/%m/%Y')\n",
        "\n",
        "# 4. Filtrar registros de ajustes\n",
        "valores_ajuste = ['R', '6', 'D']\n",
        "ajustes = df[df['ajuste_'].isin(valores_ajuste)]\n",
        "sin6dr = df[~df['ajuste_'].isin(valores_ajuste)]\n",
        "\n",
        "# 5. En el sin6dr, separar Norte de Santander y otros departamentos\n",
        "norte_santander = sin6dr[sin6dr['ndep_proce'].str.upper() == 'NORTE SANTANDER']\n",
        "otros_departamentos = sin6dr[sin6dr['ndep_proce'].str.upper() != 'NORTE SANTANDER']"
      ],
      "metadata": {
        "id": "ty8eWzAPNXRq",
        "colab": {
          "base_uri": "https://localhost:8080/"
        },
        "outputId": "fc535f8d-99cf-4531-e2e8-813caf742474"
      },
      "execution_count": null,
      "outputs": [
        {
          "name": "stdout",
          "output_type": "stream",
          "text": [
            "Ingrese el nombre del archivo Excel (ej: datos2.xlsx): 300_junio_2025.xlsx\n"
          ]
        }
      ]
    },
    {
      "cell_type": "code",
      "source": [
        "df_norte = norte_santander\n",
        "\n",
        "# 2. Pedir el año a procesar\n",
        "año_procesar = int(input(\"Ingrese el año que desea procesar (ej: 2025): \"))\n",
        "\n",
        "# 3. Filtrar por año\n",
        "df_norte = df_norte[df_norte['año'] == año_procesar]\n",
        "\n",
        "# 4. Convertir 'fec_not' a tipo fecha\n",
        "df_norte['fec_not'] = pd.to_datetime(df_norte['fec_not'], format='%d/%m/%Y', errors='coerce')"
      ],
      "metadata": {
        "id": "9W77RzkU9Rgj",
        "colab": {
          "base_uri": "https://localhost:8080/"
        },
        "outputId": "3a9382d1-4aab-48f1-ff73-ffc394b09efe"
      },
      "execution_count": null,
      "outputs": [
        {
          "name": "stdout",
          "output_type": "stream",
          "text": [
            "Ingrese el año que desea procesar (ej: 2025): 2025\n"
          ]
        }
      ]
    },
    {
      "cell_type": "code",
      "source": [
        "# 5. Inicializar tablas de salida\n",
        "depurados = []\n",
        "duplicados = []\n",
        "\n",
        "# 6. Agrupar por documento en df_norte (ya filtrado)\n",
        "for num_ide, grupo in df_norte.groupby('num_ide_'):\n",
        "    if len(grupo) == 1:\n",
        "        depurados.append(grupo.iloc[0])\n",
        "    else:\n",
        "        # Comparar fechas entre todos los pares\n",
        "        grupo = grupo.sort_values('fec_not')\n",
        "        indices = list(grupo.index)\n",
        "        ya_procesados = set()\n",
        "\n",
        "        for i in range(len(indices)):\n",
        "            if indices[i] in ya_procesados:\n",
        "                continue\n",
        "            candidato = grupo.loc[indices[i]]\n",
        "            candidatos_duplicados = []\n",
        "\n",
        "            for j in range(i+1, len(indices)):\n",
        "                if indices[j] in ya_procesados:\n",
        "                    continue\n",
        "                fecha_i = candidato['fec_not']\n",
        "                fecha_j = grupo.loc[indices[j], 'fec_not']\n",
        "\n",
        "                if pd.notnull(fecha_i) and pd.notnull(fecha_j):\n",
        "                    if abs((fecha_i - fecha_j).days) <= 90:\n",
        "                        candidatos_duplicados.append(grupo.loc[indices[j]])\n",
        "                        ya_procesados.add(indices[j])\n",
        "\n",
        "            if candidatos_duplicados:\n",
        "                candidatos_duplicados.append(candidato)\n",
        "                candidatos_df = pd.DataFrame(candidatos_duplicados)\n",
        "\n",
        "                # Aplicar criterios A, B, C, D\n",
        "                candidatos_df['apl_sa'] = candidatos_df['apl_sa'].fillna(0)\n",
        "                candidatos_df['apl_vac'] = candidatos_df['apl_vac'].fillna(0)\n",
        "                candidatos_df['pac_hos_'] = candidatos_df['pac_hos_'].fillna(0)\n",
        "                prioridad_upgd = {'ese': 1, 'centro de salud': 2, 'ips': 3}\n",
        "                candidatos_df['prioridad_upgd'] = candidatos_df['nom_upgd'].str.lower().map(prioridad_upgd).fillna(99)\n",
        "                candidatos_df = candidatos_df.sort_values(\n",
        "                    by=['apl_sa', 'apl_vac', 'pac_hos_', 'prioridad_upgd', 'semana'],\n",
        "                    ascending=[False, False, False, True, True]\n",
        "                )\n",
        "\n",
        "                ganador = candidatos_df.iloc[0]\n",
        "                depurados.append(ganador)\n",
        "\n",
        "                duplicados.extend(candidatos_df.iloc[1:].to_dict(orient='records'))\n",
        "            else:\n",
        "                depurados.append(candidato)\n",
        "\n",
        "# 7. Convertir resultados a DataFrame\n",
        "depurados_df = pd.DataFrame(depurados)\n",
        "duplicados_df = pd.DataFrame(duplicados)\n",
        "\n",
        "# 8. Formatear fechas para que se guarden como dd/mm/yyyy\n",
        "columnas_fecha_depurados = [col for col in depurados_df.columns if depurados_df[col].dtype == 'datetime64[ns]']\n",
        "columnas_fecha_duplicados = [col for col in duplicados_df.columns if duplicados_df[col].dtype == 'datetime64[ns]']\n",
        "\n",
        "for col in columnas_fecha_depurados:\n",
        "    depurados_df[col] = depurados_df[col].dt.strftime('%d/%m/%Y')\n",
        "\n",
        "for col in columnas_fecha_duplicados:\n",
        "    duplicados_df[col] = duplicados_df[col].dt.strftime('%d/%m/%Y')\n",
        "\n",
        "# 9. Guardar todo en el mismo archivo Excel\n",
        "with pd.ExcelWriter('resultado_ajustes_final_2024.xlsx', engine='openpyxl') as writer:\n",
        "    descargado.to_excel(writer, sheet_name='Descargado', index=False)\n",
        "    ajustes.to_excel(writer, sheet_name='Ajustes', index=False)\n",
        "    sin6dr.to_excel(writer, sheet_name='Sin6dr', index=False)\n",
        "    norte_santander.to_excel(writer, sheet_name='Norte_Santander_Original', index=False)\n",
        "    otros_departamentos.to_excel(writer, sheet_name='Otros_Departamentos', index=False)\n",
        "    depurados_df.to_excel(writer, sheet_name='Depurados', index=False)\n",
        "    duplicados_df.to_excel(writer, sheet_name='Duplicados', index=False)\n",
        "\n",
        "print(\"✅ Proceso completamente finalizado. Archivo 'resultado_ajustes_final.xlsx' generado con todas las hojas.\")"
      ],
      "metadata": {
        "id": "RIXr98Fk9fY-",
        "colab": {
          "base_uri": "https://localhost:8080/"
        },
        "outputId": "e51e21cf-cc38-4897-ecf3-14b37ff3dded"
      },
      "execution_count": null,
      "outputs": [
        {
          "output_type": "stream",
          "name": "stdout",
          "text": [
            "✅ Proceso completamente finalizado. Archivo 'resultado_ajustes_final.xlsx' generado con todas las hojas.\n"
          ]
        }
      ]
    }
  ]
}